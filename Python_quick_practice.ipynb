{
 "cells": [
  {
   "cell_type": "markdown",
   "id": "4b6f0841",
   "metadata": {},
   "source": [
    "## Numpy \n",
    "- A NumPy array is called an ndarray. It can store multiple values of the same data type."
   ]
  },
  {
   "cell_type": "code",
   "execution_count": 2,
   "id": "3f127653",
   "metadata": {},
   "outputs": [
    {
     "name": "stdout",
     "output_type": "stream",
     "text": [
      "[1 2 3 4 5]\n",
      "<class 'numpy.ndarray'>\n"
     ]
    }
   ],
   "source": [
    "# Creating a 1D Array\n",
    "import numpy as np\n",
    "\n",
    "\n",
    "arr1D = np.array([1, 2, 3, 4, 5])\n",
    "\n",
    "print(arr1D)\n",
    "print(type(arr1D))"
   ]
  },
  {
   "cell_type": "code",
   "execution_count": 7,
   "id": "8a85f145",
   "metadata": {},
   "outputs": [
    {
     "name": "stdout",
     "output_type": "stream",
     "text": [
      "[[1 2 3]\n",
      " [4 5 6]]\n",
      "\n",
      "\n",
      "<class 'numpy.ndarray'>\n",
      "\n",
      "\n",
      "(2, 3)\n",
      "\n",
      "\n",
      "6\n"
     ]
    }
   ],
   "source": [
    "# Creating a 2D Array\n",
    "arr2D = np.array([[1, 2, 3], [4, 5, 6]])\n",
    "print(arr2D)\n",
    "print('\\n')\n",
    "print(type(arr2D))\n",
    "print('\\n')\n",
    "print(arr2D.shape)\n",
    "print('\\n')\n",
    "print(arr2D.size)"
   ]
  },
  {
   "cell_type": "code",
   "execution_count": 10,
   "id": "02ac4d4c",
   "metadata": {},
   "outputs": [
    {
     "data": {
      "text/plain": [
       "array([20, 30, 40])"
      ]
     },
     "execution_count": 10,
     "metadata": {},
     "output_type": "execute_result"
    }
   ],
   "source": [
    "#  Indexing & Slicing\n",
    "\n",
    "arr = np.array([10, 20, 30, 40, 50])\n",
    "\n",
    "arr[1:4]  # Slicing from index 1 to 3"
   ]
  },
  {
   "cell_type": "code",
   "execution_count": 14,
   "id": "b3a90e33",
   "metadata": {},
   "outputs": [
    {
     "name": "stdout",
     "output_type": "stream",
     "text": [
      "Original 2D Array:\n",
      "[[ 10  20  30  40]\n",
      " [ 50  60  70  80]\n",
      " [ 90 100 110 120]]\n",
      "\n",
      "\n",
      "70\n",
      "\n",
      "\n",
      "[[20 30]\n",
      " [60 70]]\n"
     ]
    }
   ],
   "source": [
    "\n",
    "\n",
    "# Create a 2D array (matrix)\n",
    "arr2d = np.array([\n",
    "    [10, 20, 30, 40],\n",
    "    [50, 60, 70, 80],\n",
    "    [90, 100, 110, 120]\n",
    "])\n",
    "\n",
    "print(\"Original 2D Array:\")\n",
    "print(arr2d)\n",
    "print('\\n')\n",
    "print(arr2d[1, 2])   # Element from 2nd row, 3rd column - Select a single element\n",
    "print('\\n')\n",
    "print(arr2d[0:2, 1:3])   # Rows 0-1, Columns 1-2 - Slice rows and columns\n"
   ]
  },
  {
   "cell_type": "code",
   "execution_count": 27,
   "id": "7edd4d2f",
   "metadata": {},
   "outputs": [
    {
     "name": "stdout",
     "output_type": "stream",
     "text": [
      "Original array:\n",
      " [10 20 30 40 50 60]\n",
      "Shape: (6,)\n",
      "\n",
      "Reshaped to 2x3:\n",
      " [[10 20 30]\n",
      " [40 50 60]]\n",
      "\n",
      "Reshaped to 3x2:\n",
      " [[10 20]\n",
      " [30 40]\n",
      " [50 60]]\n",
      "\n",
      "Reshaped with inferred rows (2, -1):\n",
      " [[10 20 30]\n",
      " [40 50 60]]\n"
     ]
    }
   ],
   "source": [
    "# reshape Arrays - Changing the shape of an array\n",
    "# Note: The total number of elements must remain the same\n",
    "#Reshaping means changing the shape (rows × columns) of an array without changing its data.\n",
    "\n",
    "\n",
    "# 1D array with 6 elements\n",
    "arr = np.array([10, 20, 30, 40, 50, 60])\n",
    "print(\"Original array:\\n\", arr)\n",
    "print(\"Shape:\", arr.shape)\n",
    "\n",
    "#Reshape into 2 rows and 3 columns\n",
    "\n",
    "reshaped_2d = arr.reshape(2, 3)\n",
    "print(\"\\nReshaped to 2x3:\\n\", reshaped_2d)\n",
    "\n",
    "#Reshape into 3 rows and 2 columns\n",
    "reshaped_3d = arr.reshape(3, 2)\n",
    "print(\"\\nReshaped to 3x2:\\n\", reshaped_3d)\n",
    "\n",
    "#Using -1 to let NumPy infer one dimension\n",
    "reshaped_infer = arr.reshape(2, -1)  # 2 columns, rows inferred\n",
    "print(\"\\nReshaped with inferred rows (2, -1):\\n\", reshaped_infer)    \n",
    "\n",
    "# -1 is a placeholder that says:\n",
    "# “NumPy, you decide what this dimension should be so that all elements fit perfectly.”"
   ]
  },
  {
   "cell_type": "markdown",
   "id": "f704df19",
   "metadata": {},
   "source": [
    "6. Real-Life Example: Outlier Detection in Customer \n",
    "Transactions\n",
    "In banking, we analyze monthly turnovers for different customers and identify outliers \n",
    "(suspiciously high turnovers).\n",
    "Example:\n",
    "import numpy as np"
   ]
  },
  {
   "cell_type": "code",
   "execution_count": null,
   "id": "ca8b0f10",
   "metadata": {},
   "outputs": [
    {
     "name": "stdout",
     "output_type": "stream",
     "text": [
      "Outliers per customer:\n",
      "Customer 1: [500]\n",
      "Customer 2: [300]\n",
      "Customer 3: []\n"
     ]
    }
   ],
   "source": [
    "\n",
    "# Monthly turnover data for 3 customers (in KES thousands)\n",
    "turnovers = np.array([\n",
    " [50, 52, 48, 51, 60, 500, 55, 53, 49, 48, 52, 51], # Customer 1\n",
    " [30, 28, 35, 33, 29, 31, 32, 300, 28, 34, 30, 29], # Customer 2\n",
    " [100, 105, 98, 102, 110, 120, 115, 112, 99, 98, 101, 105], # Customer 3\n",
    "])\n",
    "# Compute mean and standard deviation per customer\n",
    "mean_turnovers = np.mean(turnovers, axis=1)\n",
    "std_turnovers = np.std(turnovers, axis=1)\n",
    "\n",
    "# Define outlier threshold (mean + 2.5 * std deviation)\n",
    "thresholds = mean_turnovers + 2.5 * std_turnovers\n",
    "\n",
    "# Identify outliers per customer\n",
    "outliers = [turnovers[i][turnovers[i] > thresholds[i]] for i in \n",
    "range(turnovers.shape[0])]\n",
    "print(\"Outliers per customer:\")\n",
    "for i, outlier_list in enumerate(outliers):\n",
    " print(f\"Customer {i+1}: {outlier_list}\")"
   ]
  },
  {
   "cell_type": "code",
   "execution_count": 30,
   "id": "7324cd15",
   "metadata": {},
   "outputs": [
    {
     "data": {
      "text/html": [
       "<div>\n",
       "<style scoped>\n",
       "    .dataframe tbody tr th:only-of-type {\n",
       "        vertical-align: middle;\n",
       "    }\n",
       "\n",
       "    .dataframe tbody tr th {\n",
       "        vertical-align: top;\n",
       "    }\n",
       "\n",
       "    .dataframe thead th {\n",
       "        text-align: right;\n",
       "    }\n",
       "</style>\n",
       "<table border=\"1\" class=\"dataframe\">\n",
       "  <thead>\n",
       "    <tr style=\"text-align: right;\">\n",
       "      <th></th>\n",
       "      <th>Salary</th>\n",
       "      <th>Name</th>\n",
       "    </tr>\n",
       "  </thead>\n",
       "  <tbody>\n",
       "    <tr>\n",
       "      <th>0</th>\n",
       "      <td>5000</td>\n",
       "      <td>John</td>\n",
       "    </tr>\n",
       "    <tr>\n",
       "      <th>1</th>\n",
       "      <td>4000</td>\n",
       "      <td>Doe</td>\n",
       "    </tr>\n",
       "  </tbody>\n",
       "</table>\n",
       "</div>"
      ],
      "text/plain": [
       "  Salary  Name\n",
       "0   5000  John\n",
       "1   4000   Doe"
      ]
     },
     "execution_count": 30,
     "metadata": {},
     "output_type": "execute_result"
    }
   ],
   "source": [
    "#Creating a dataframe using numpy array\n",
    "\n",
    "import pandas as pd\n",
    "\n",
    "arr = np.array([[5000,4000],['John','Doe']])\n",
    "\n",
    "df = pd.DataFrame({'Salary': arr[0], 'Name': arr[1]})  \n",
    "\n",
    "df"
   ]
  },
  {
   "cell_type": "markdown",
   "id": "9eddea81",
   "metadata": {},
   "source": [
    "## Merge Operations"
   ]
  },
  {
   "cell_type": "code",
   "execution_count": 32,
   "id": "f69a5c7b",
   "metadata": {},
   "outputs": [
    {
     "name": "stdout",
     "output_type": "stream",
     "text": [
      "    Player  Points  Title\n",
      "0  player1      25  Game1\n",
      "1  player2      30  Game2\n",
      "2  player3      15  Game3\n"
     ]
    }
   ],
   "source": [
    "player = ['player1', 'player2', 'player3']\n",
    "points = [25, 30, 15]\n",
    "title = ['Game1','Game2','Game3']\n",
    "df1 = pd.DataFrame({'Player': player, 'Points': points, 'Title': title})\n",
    "print(df1)"
   ]
  },
  {
   "cell_type": "code",
   "execution_count": 33,
   "id": "9b8f2be2",
   "metadata": {},
   "outputs": [
    {
     "name": "stdout",
     "output_type": "stream",
     "text": [
      "    Player power   Title\n",
      "0  player1  Punch  Game1\n",
      "1  player5   Kick  Game5\n",
      "2  player6  Elbow  Game6\n"
     ]
    }
   ],
   "source": [
    "player = ['player1', 'player5', 'player6']\n",
    "power = ['Punch','Kick','Elbow']\n",
    "title = ['Game1','Game5','Game6']\n",
    "df2 = pd.DataFrame({'Player': player, 'power ': power, 'Title': title})\n",
    "print(df2)"
   ]
  },
  {
   "cell_type": "code",
   "execution_count": 38,
   "id": "0c759d01",
   "metadata": {},
   "outputs": [
    {
     "name": "stdout",
     "output_type": "stream",
     "text": [
      "\n",
      "Inner Merge Result:\n",
      "     Player  Points Title_x power  Title_y\n",
      "0  player1      25   Game1  Punch   Game1\n",
      "\n",
      "\n",
      "or\n"
     ]
    },
    {
     "data": {
      "text/html": [
       "<div>\n",
       "<style scoped>\n",
       "    .dataframe tbody tr th:only-of-type {\n",
       "        vertical-align: middle;\n",
       "    }\n",
       "\n",
       "    .dataframe tbody tr th {\n",
       "        vertical-align: top;\n",
       "    }\n",
       "\n",
       "    .dataframe thead th {\n",
       "        text-align: right;\n",
       "    }\n",
       "</style>\n",
       "<table border=\"1\" class=\"dataframe\">\n",
       "  <thead>\n",
       "    <tr style=\"text-align: right;\">\n",
       "      <th></th>\n",
       "      <th>Player</th>\n",
       "      <th>Points</th>\n",
       "      <th>Title_x</th>\n",
       "      <th>power</th>\n",
       "      <th>Title_y</th>\n",
       "    </tr>\n",
       "  </thead>\n",
       "  <tbody>\n",
       "    <tr>\n",
       "      <th>0</th>\n",
       "      <td>player1</td>\n",
       "      <td>25</td>\n",
       "      <td>Game1</td>\n",
       "      <td>Punch</td>\n",
       "      <td>Game1</td>\n",
       "    </tr>\n",
       "  </tbody>\n",
       "</table>\n",
       "</div>"
      ],
      "text/plain": [
       "    Player  Points Title_x power  Title_y\n",
       "0  player1      25   Game1  Punch   Game1"
      ]
     },
     "execution_count": 38,
     "metadata": {},
     "output_type": "execute_result"
    }
   ],
   "source": [
    "#Inner merge\n",
    "merged_inner = pd.merge(left=df1, right=df2, how='inner', on='Player')\n",
    "print(\"\\nInner Merge Result:\\n\", merged_inner)  \n",
    "print(\"\\n\")\n",
    "print(\"or\")\n",
    "df1.merge(df2, on='Player', how='inner')  # inner"
   ]
  },
  {
   "cell_type": "code",
   "execution_count": 39,
   "id": "a4a87e03",
   "metadata": {},
   "outputs": [
    {
     "data": {
      "text/html": [
       "<div>\n",
       "<style scoped>\n",
       "    .dataframe tbody tr th:only-of-type {\n",
       "        vertical-align: middle;\n",
       "    }\n",
       "\n",
       "    .dataframe tbody tr th {\n",
       "        vertical-align: top;\n",
       "    }\n",
       "\n",
       "    .dataframe thead th {\n",
       "        text-align: right;\n",
       "    }\n",
       "</style>\n",
       "<table border=\"1\" class=\"dataframe\">\n",
       "  <thead>\n",
       "    <tr style=\"text-align: right;\">\n",
       "      <th></th>\n",
       "      <th>Player</th>\n",
       "      <th>Points</th>\n",
       "      <th>Title_x</th>\n",
       "      <th>power</th>\n",
       "      <th>Title_y</th>\n",
       "    </tr>\n",
       "  </thead>\n",
       "  <tbody>\n",
       "    <tr>\n",
       "      <th>0</th>\n",
       "      <td>player1</td>\n",
       "      <td>25</td>\n",
       "      <td>Game1</td>\n",
       "      <td>Punch</td>\n",
       "      <td>Game1</td>\n",
       "    </tr>\n",
       "    <tr>\n",
       "      <th>1</th>\n",
       "      <td>player2</td>\n",
       "      <td>30</td>\n",
       "      <td>Game2</td>\n",
       "      <td>NaN</td>\n",
       "      <td>NaN</td>\n",
       "    </tr>\n",
       "    <tr>\n",
       "      <th>2</th>\n",
       "      <td>player3</td>\n",
       "      <td>15</td>\n",
       "      <td>Game3</td>\n",
       "      <td>NaN</td>\n",
       "      <td>NaN</td>\n",
       "    </tr>\n",
       "  </tbody>\n",
       "</table>\n",
       "</div>"
      ],
      "text/plain": [
       "    Player  Points Title_x power  Title_y\n",
       "0  player1      25   Game1  Punch   Game1\n",
       "1  player2      30   Game2    NaN     NaN\n",
       "2  player3      15   Game3    NaN     NaN"
      ]
     },
     "execution_count": 39,
     "metadata": {},
     "output_type": "execute_result"
    }
   ],
   "source": [
    "#left merge\n",
    "\n",
    "df1.merge(df2, on=\"Player\", how='left')  # left\n",
    "\n"
   ]
  },
  {
   "cell_type": "code",
   "execution_count": 41,
   "id": "3ff2834b",
   "metadata": {},
   "outputs": [
    {
     "data": {
      "text/html": [
       "<div>\n",
       "<style scoped>\n",
       "    .dataframe tbody tr th:only-of-type {\n",
       "        vertical-align: middle;\n",
       "    }\n",
       "\n",
       "    .dataframe tbody tr th {\n",
       "        vertical-align: top;\n",
       "    }\n",
       "\n",
       "    .dataframe thead th {\n",
       "        text-align: right;\n",
       "    }\n",
       "</style>\n",
       "<table border=\"1\" class=\"dataframe\">\n",
       "  <thead>\n",
       "    <tr style=\"text-align: right;\">\n",
       "      <th></th>\n",
       "      <th>Player</th>\n",
       "      <th>Points</th>\n",
       "      <th>Title_x</th>\n",
       "      <th>power</th>\n",
       "      <th>Title_y</th>\n",
       "    </tr>\n",
       "  </thead>\n",
       "  <tbody>\n",
       "    <tr>\n",
       "      <th>0</th>\n",
       "      <td>player1</td>\n",
       "      <td>25.0</td>\n",
       "      <td>Game1</td>\n",
       "      <td>Punch</td>\n",
       "      <td>Game1</td>\n",
       "    </tr>\n",
       "    <tr>\n",
       "      <th>1</th>\n",
       "      <td>player5</td>\n",
       "      <td>NaN</td>\n",
       "      <td>NaN</td>\n",
       "      <td>Kick</td>\n",
       "      <td>Game5</td>\n",
       "    </tr>\n",
       "    <tr>\n",
       "      <th>2</th>\n",
       "      <td>player6</td>\n",
       "      <td>NaN</td>\n",
       "      <td>NaN</td>\n",
       "      <td>Elbow</td>\n",
       "      <td>Game6</td>\n",
       "    </tr>\n",
       "  </tbody>\n",
       "</table>\n",
       "</div>"
      ],
      "text/plain": [
       "    Player  Points Title_x power  Title_y\n",
       "0  player1    25.0   Game1  Punch   Game1\n",
       "1  player5     NaN     NaN   Kick   Game5\n",
       "2  player6     NaN     NaN  Elbow   Game6"
      ]
     },
     "execution_count": 41,
     "metadata": {},
     "output_type": "execute_result"
    }
   ],
   "source": [
    "#right merge\n",
    "\n",
    "df1.merge(df2, on=\"Player\", how='right')  # Right"
   ]
  },
  {
   "cell_type": "code",
   "execution_count": 42,
   "id": "85e5a6e4",
   "metadata": {},
   "outputs": [
    {
     "data": {
      "text/html": [
       "<div>\n",
       "<style scoped>\n",
       "    .dataframe tbody tr th:only-of-type {\n",
       "        vertical-align: middle;\n",
       "    }\n",
       "\n",
       "    .dataframe tbody tr th {\n",
       "        vertical-align: top;\n",
       "    }\n",
       "\n",
       "    .dataframe thead th {\n",
       "        text-align: right;\n",
       "    }\n",
       "</style>\n",
       "<table border=\"1\" class=\"dataframe\">\n",
       "  <thead>\n",
       "    <tr style=\"text-align: right;\">\n",
       "      <th></th>\n",
       "      <th>Player</th>\n",
       "      <th>Points</th>\n",
       "      <th>Title_x</th>\n",
       "      <th>power</th>\n",
       "      <th>Title_y</th>\n",
       "    </tr>\n",
       "  </thead>\n",
       "  <tbody>\n",
       "    <tr>\n",
       "      <th>0</th>\n",
       "      <td>player1</td>\n",
       "      <td>25.0</td>\n",
       "      <td>Game1</td>\n",
       "      <td>Punch</td>\n",
       "      <td>Game1</td>\n",
       "    </tr>\n",
       "    <tr>\n",
       "      <th>1</th>\n",
       "      <td>player2</td>\n",
       "      <td>30.0</td>\n",
       "      <td>Game2</td>\n",
       "      <td>NaN</td>\n",
       "      <td>NaN</td>\n",
       "    </tr>\n",
       "    <tr>\n",
       "      <th>2</th>\n",
       "      <td>player3</td>\n",
       "      <td>15.0</td>\n",
       "      <td>Game3</td>\n",
       "      <td>NaN</td>\n",
       "      <td>NaN</td>\n",
       "    </tr>\n",
       "    <tr>\n",
       "      <th>3</th>\n",
       "      <td>player5</td>\n",
       "      <td>NaN</td>\n",
       "      <td>NaN</td>\n",
       "      <td>Kick</td>\n",
       "      <td>Game5</td>\n",
       "    </tr>\n",
       "    <tr>\n",
       "      <th>4</th>\n",
       "      <td>player6</td>\n",
       "      <td>NaN</td>\n",
       "      <td>NaN</td>\n",
       "      <td>Elbow</td>\n",
       "      <td>Game6</td>\n",
       "    </tr>\n",
       "  </tbody>\n",
       "</table>\n",
       "</div>"
      ],
      "text/plain": [
       "    Player  Points Title_x power  Title_y\n",
       "0  player1    25.0   Game1  Punch   Game1\n",
       "1  player2    30.0   Game2    NaN     NaN\n",
       "2  player3    15.0   Game3    NaN     NaN\n",
       "3  player5     NaN     NaN   Kick   Game5\n",
       "4  player6     NaN     NaN  Elbow   Game6"
      ]
     },
     "execution_count": 42,
     "metadata": {},
     "output_type": "execute_result"
    }
   ],
   "source": [
    "#outer merge\n",
    "\n",
    "df1.merge(df2, on=\"Player\", how='outer')  # outer"
   ]
  },
  {
   "cell_type": "markdown",
   "id": "e0ebfd69",
   "metadata": {},
   "source": [
    "## Join Operations"
   ]
  },
  {
   "cell_type": "code",
   "execution_count": 48,
   "id": "168afe21",
   "metadata": {},
   "outputs": [
    {
     "name": "stdout",
     "output_type": "stream",
     "text": [
      "      Name  Score\n",
      "2      Bob     85\n",
      "3  Charlie     90\n"
     ]
    }
   ],
   "source": [
    "# You want to combine two DataFrames based on index,\n",
    "# or join using a key column from one and index from another.\n",
    "#join() uses index by default (not columns).\n",
    "#You can specify another column with on=.\n",
    "\n",
    "\n",
    "df1 = pd.DataFrame({'Name': ['Alice', 'Bob', 'Charlie']}, index=[1, 2, 3])\n",
    "df2 = pd.DataFrame({'Score': [85, 90, 88]}, index=[2, 3, 4])\n",
    "\n",
    "joined = df1.join(df2, how='inner')\n",
    "print(joined)\n"
   ]
  },
  {
   "cell_type": "markdown",
   "id": "708f63a3",
   "metadata": {},
   "source": [
    "## Concatenation Operations"
   ]
  },
  {
   "cell_type": "code",
   "execution_count": 46,
   "id": "d4c54317",
   "metadata": {},
   "outputs": [
    {
     "data": {
      "text/html": [
       "<div>\n",
       "<style scoped>\n",
       "    .dataframe tbody tr th:only-of-type {\n",
       "        vertical-align: middle;\n",
       "    }\n",
       "\n",
       "    .dataframe tbody tr th {\n",
       "        vertical-align: top;\n",
       "    }\n",
       "\n",
       "    .dataframe thead th {\n",
       "        text-align: right;\n",
       "    }\n",
       "</style>\n",
       "<table border=\"1\" class=\"dataframe\">\n",
       "  <thead>\n",
       "    <tr style=\"text-align: right;\">\n",
       "      <th></th>\n",
       "      <th>Player</th>\n",
       "      <th>power</th>\n",
       "      <th>Title</th>\n",
       "      <th>Points</th>\n",
       "    </tr>\n",
       "  </thead>\n",
       "  <tbody>\n",
       "    <tr>\n",
       "      <th>0</th>\n",
       "      <td>player1</td>\n",
       "      <td>Punch</td>\n",
       "      <td>Game1</td>\n",
       "      <td>NaN</td>\n",
       "    </tr>\n",
       "    <tr>\n",
       "      <th>1</th>\n",
       "      <td>player5</td>\n",
       "      <td>Kick</td>\n",
       "      <td>Game5</td>\n",
       "      <td>NaN</td>\n",
       "    </tr>\n",
       "    <tr>\n",
       "      <th>2</th>\n",
       "      <td>player6</td>\n",
       "      <td>Elbow</td>\n",
       "      <td>Game6</td>\n",
       "      <td>NaN</td>\n",
       "    </tr>\n",
       "    <tr>\n",
       "      <th>0</th>\n",
       "      <td>player1</td>\n",
       "      <td>NaN</td>\n",
       "      <td>Game1</td>\n",
       "      <td>25.0</td>\n",
       "    </tr>\n",
       "    <tr>\n",
       "      <th>1</th>\n",
       "      <td>player2</td>\n",
       "      <td>NaN</td>\n",
       "      <td>Game2</td>\n",
       "      <td>30.0</td>\n",
       "    </tr>\n",
       "    <tr>\n",
       "      <th>2</th>\n",
       "      <td>player3</td>\n",
       "      <td>NaN</td>\n",
       "      <td>Game3</td>\n",
       "      <td>15.0</td>\n",
       "    </tr>\n",
       "  </tbody>\n",
       "</table>\n",
       "</div>"
      ],
      "text/plain": [
       "    Player power   Title  Points\n",
       "0  player1  Punch  Game1     NaN\n",
       "1  player5   Kick  Game5     NaN\n",
       "2  player6  Elbow  Game6     NaN\n",
       "0  player1    NaN  Game1    25.0\n",
       "1  player2    NaN  Game2    30.0\n",
       "2  player3    NaN  Game3    15.0"
      ]
     },
     "execution_count": 46,
     "metadata": {},
     "output_type": "execute_result"
    }
   ],
   "source": [
    "pd.concat([df2,df1], axis=0)  # row-wise concatenation"
   ]
  },
  {
   "cell_type": "code",
   "execution_count": 47,
   "id": "8718dcd7",
   "metadata": {},
   "outputs": [
    {
     "data": {
      "text/html": [
       "<div>\n",
       "<style scoped>\n",
       "    .dataframe tbody tr th:only-of-type {\n",
       "        vertical-align: middle;\n",
       "    }\n",
       "\n",
       "    .dataframe tbody tr th {\n",
       "        vertical-align: top;\n",
       "    }\n",
       "\n",
       "    .dataframe thead th {\n",
       "        text-align: right;\n",
       "    }\n",
       "</style>\n",
       "<table border=\"1\" class=\"dataframe\">\n",
       "  <thead>\n",
       "    <tr style=\"text-align: right;\">\n",
       "      <th></th>\n",
       "      <th>A</th>\n",
       "      <th>B</th>\n",
       "    </tr>\n",
       "  </thead>\n",
       "  <tbody>\n",
       "    <tr>\n",
       "      <th>0</th>\n",
       "      <td>1</td>\n",
       "      <td>3</td>\n",
       "    </tr>\n",
       "    <tr>\n",
       "      <th>1</th>\n",
       "      <td>2</td>\n",
       "      <td>4</td>\n",
       "    </tr>\n",
       "    <tr>\n",
       "      <th>0</th>\n",
       "      <td>5</td>\n",
       "      <td>7</td>\n",
       "    </tr>\n",
       "    <tr>\n",
       "      <th>1</th>\n",
       "      <td>6</td>\n",
       "      <td>8</td>\n",
       "    </tr>\n",
       "  </tbody>\n",
       "</table>\n",
       "</div>"
      ],
      "text/plain": [
       "   A  B\n",
       "0  1  3\n",
       "1  2  4\n",
       "0  5  7\n",
       "1  6  8"
      ]
     },
     "execution_count": 47,
     "metadata": {},
     "output_type": "execute_result"
    }
   ],
   "source": [
    "\n",
    "\n",
    "df1 = pd.DataFrame({'A': [1, 2], 'B': [3, 4]})\n",
    "df2 = pd.DataFrame({'A': [5, 6], 'B': [7, 8]})\n",
    "\n",
    "pd.concat([df1, df2], axis=0)\n"
   ]
  }
 ],
 "metadata": {
  "kernelspec": {
   "display_name": "learn-env",
   "language": "python",
   "name": "python3"
  },
  "language_info": {
   "codemirror_mode": {
    "name": "ipython",
    "version": 3
   },
   "file_extension": ".py",
   "mimetype": "text/x-python",
   "name": "python",
   "nbconvert_exporter": "python",
   "pygments_lexer": "ipython3",
   "version": "3.8.5"
  }
 },
 "nbformat": 4,
 "nbformat_minor": 5
}
